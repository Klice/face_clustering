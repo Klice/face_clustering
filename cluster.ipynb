{
 "cells": [
  {
   "cell_type": "code",
   "execution_count": null,
   "metadata": {},
   "outputs": [],
   "source": [
    "from utils import read_data\n",
    "from config import DATA_FILE\n",
    "\n",
    "include_test = False\n",
    "\n",
    "data = {k: v for k,v in read_data(DATA_FILE).items() if v and (include_test == True or \"test\" not in k)}\n",
    "cluster_data = [v for f, v in data.items()]\n",
    "\n"
   ]
  },
  {
   "cell_type": "code",
   "execution_count": null,
   "metadata": {},
   "outputs": [],
   "source": [
    "import matplotlib.pyplot as plt\n",
    "from cluster import cluster\n",
    "\n",
    "inertias = cluster(cluster_data)\n",
    "plt.style.use(\"fivethirtyeight\")\n",
    "plt.plot(range(2,len(cluster_data)), inertias, marker='o')\n",
    "for a,b in zip(range(2,len(cluster_data)), inertias): \n",
    "    plt.text(a, b, str(a))\n",
    "plt.title('Elbow method')\n",
    "plt.xlabel('Number of clusters')\n",
    "plt.ylabel('Inertia')\n",
    "plt.show() "
   ]
  },
  {
   "cell_type": "code",
   "execution_count": null,
   "metadata": {},
   "outputs": [],
   "source": [
    "import ipyplot\n",
    "from cluster import build_clusters\n",
    "from IPython.display import Image, Markdown\n",
    "from sklearn.preprocessing import StandardScaler\n",
    "\n",
    "n_clusters = 5\n",
    "\n",
    "scaler = StandardScaler()\n",
    "cluster_data = scaler.fit_transform(cluster_data)\n",
    "\n",
    "kmean=build_clusters(cluster_data, n_clusters)\n",
    "cluster_res = kmean.predict(cluster_data)\n",
    "res = list(zip([f for f in data], cluster_res))\n",
    "\n",
    "res_dict = {}\n",
    "for i,l in res:\n",
    "    if l not in res_dict:\n",
    "        res_dict[l] = []\n",
    "    res_dict[l].append(i)\n",
    "for l in res_dict:\n",
    "    display(Markdown(f\"### Cluster: {l}\"))\n",
    "    imgs = [f\"<img src=\\\"{i}\\\" height=\\\"120\\\">\" for i in res_dict[l]]\n",
    "    display(Markdown(\"\".join(imgs)))"
   ]
  }
 ],
 "metadata": {
  "kernelspec": {
   "display_name": "putin-4tLxgN6t",
   "language": "python",
   "name": "python3"
  },
  "language_info": {
   "codemirror_mode": {
    "name": "ipython",
    "version": 3
   },
   "file_extension": ".py",
   "mimetype": "text/x-python",
   "name": "python",
   "nbconvert_exporter": "python",
   "pygments_lexer": "ipython3",
   "version": "3.9.13"
  },
  "orig_nbformat": 4,
  "vscode": {
   "interpreter": {
    "hash": "c3dfc0e06c6954020f779d6d7ef4d1e4b3dcd4bd2603e797e574a3e0476ad19d"
   }
  }
 },
 "nbformat": 4,
 "nbformat_minor": 2
}
